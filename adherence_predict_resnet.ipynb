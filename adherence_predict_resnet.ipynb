{
 "cells": [
  {
   "cell_type": "code",
   "execution_count": 5,
   "metadata": {},
   "outputs": [
    {
     "data": {
      "text/html": [
       "<div>\n",
       "<style scoped>\n",
       "    .dataframe tbody tr th:only-of-type {\n",
       "        vertical-align: middle;\n",
       "    }\n",
       "\n",
       "    .dataframe tbody tr th {\n",
       "        vertical-align: top;\n",
       "    }\n",
       "\n",
       "    .dataframe thead th {\n",
       "        text-align: right;\n",
       "    }\n",
       "</style>\n",
       "<table border=\"1\" class=\"dataframe\">\n",
       "  <thead>\n",
       "    <tr style=\"text-align: right;\">\n",
       "      <th></th>\n",
       "      <th>pid</th>\n",
       "      <th>task</th>\n",
       "      <th>adherence</th>\n",
       "      <th>file</th>\n",
       "    </tr>\n",
       "  </thead>\n",
       "  <tbody>\n",
       "    <tr>\n",
       "      <th>0</th>\n",
       "      <td>1f9475bb-f13b-4f68-969b-28f20455b3e7</td>\n",
       "      <td>Free-speech-2</td>\n",
       "      <td>NaN</td>\n",
       "      <td>/Users/rachelwang/Downloads/bids_with_sensitiv...</td>\n",
       "    </tr>\n",
       "    <tr>\n",
       "      <th>1</th>\n",
       "      <td>1f9475bb-f13b-4f68-969b-28f20455b3e7</td>\n",
       "      <td>Word-color-Stroop</td>\n",
       "      <td>NaN</td>\n",
       "      <td>/Users/rachelwang/Downloads/bids_with_sensitiv...</td>\n",
       "    </tr>\n",
       "    <tr>\n",
       "      <th>2</th>\n",
       "      <td>1f9475bb-f13b-4f68-969b-28f20455b3e7</td>\n",
       "      <td>Free-speech-3</td>\n",
       "      <td>NaN</td>\n",
       "      <td>/Users/rachelwang/Downloads/bids_with_sensitiv...</td>\n",
       "    </tr>\n",
       "    <tr>\n",
       "      <th>3</th>\n",
       "      <td>1f9475bb-f13b-4f68-969b-28f20455b3e7</td>\n",
       "      <td>Free-speech-1</td>\n",
       "      <td>NaN</td>\n",
       "      <td>/Users/rachelwang/Downloads/bids_with_sensitiv...</td>\n",
       "    </tr>\n",
       "    <tr>\n",
       "      <th>4</th>\n",
       "      <td>1f9475bb-f13b-4f68-969b-28f20455b3e7</td>\n",
       "      <td>Prolonged-vowel</td>\n",
       "      <td>NaN</td>\n",
       "      <td>/Users/rachelwang/Downloads/bids_with_sensitiv...</td>\n",
       "    </tr>\n",
       "  </tbody>\n",
       "</table>\n",
       "</div>"
      ],
      "text/plain": [
       "                                    pid               task  adherence  \\\n",
       "0  1f9475bb-f13b-4f68-969b-28f20455b3e7      Free-speech-2        NaN   \n",
       "1  1f9475bb-f13b-4f68-969b-28f20455b3e7  Word-color-Stroop        NaN   \n",
       "2  1f9475bb-f13b-4f68-969b-28f20455b3e7      Free-speech-3        NaN   \n",
       "3  1f9475bb-f13b-4f68-969b-28f20455b3e7      Free-speech-1        NaN   \n",
       "4  1f9475bb-f13b-4f68-969b-28f20455b3e7    Prolonged-vowel        NaN   \n",
       "\n",
       "                                                file  \n",
       "0  /Users/rachelwang/Downloads/bids_with_sensitiv...  \n",
       "1  /Users/rachelwang/Downloads/bids_with_sensitiv...  \n",
       "2  /Users/rachelwang/Downloads/bids_with_sensitiv...  \n",
       "3  /Users/rachelwang/Downloads/bids_with_sensitiv...  \n",
       "4  /Users/rachelwang/Downloads/bids_with_sensitiv...  "
      ]
     },
     "execution_count": 5,
     "metadata": {},
     "output_type": "execute_result"
    }
   ],
   "source": [
    "import pandas as pd\n",
    "\n",
    "# Load the CSV file to examine its content\n",
    "file_path = '/Users/rachelwang/Downloads/notes/models/csv/adherence_non_labeled.csv'\n",
    "data = pd.read_csv(file_path)\n",
    "\n",
    "# Display the first few rows of the dataframe\n",
    "data.head()"
   ]
  },
  {
   "cell_type": "code",
   "execution_count": 6,
   "metadata": {},
   "outputs": [
    {
     "data": {
      "text/plain": [
       "array(['Free-speech-2', 'Word-color-Stroop', 'Free-speech-3',\n",
       "       'Free-speech-1', 'Prolonged-vowel', 'Diadochokinesis-buttercup',\n",
       "       'Respiration-and-cough-Breath-1', 'Diadochokinesis-PA',\n",
       "       'Productive-Vocabulary-1', 'Respiration-and-cough-FiveBreaths-3',\n",
       "       'Productive-Vocabulary-2', 'Respiration-and-cough-FiveBreaths-2',\n",
       "       'Audio-Check-4', 'Productive-Vocabulary-6',\n",
       "       'Random-Item-Generation', 'Audio-Check-1', 'Audio-Check-3',\n",
       "       'Maximum-phonation-time-3', 'Productive-Vocabulary-5',\n",
       "       'Respiration-and-cough-ThreeQuickBreaths-1', 'Glides-High-to-Low',\n",
       "       'Productive-Vocabulary-4', 'Diadochokinesis-KA',\n",
       "       'Maximum-phonation-time-2', 'Audio-Check-2',\n",
       "       'Respiration-and-cough-Cough-1', 'Picture-description',\n",
       "       'Respiration-and-cough-Cough-2', 'Glides-Low-to-High',\n",
       "       'Story-recall', 'Diadochokinesis-TA',\n",
       "       'Respiration-and-cough-FiveBreaths-1', 'Diadochokinesis-Pataka',\n",
       "       'Respiration-and-cough-FiveBreaths-4', 'Maximum-phonation-time-1',\n",
       "       'Respiration-and-cough-Breath-2', 'Caterpillar-Passage',\n",
       "       'Cape-V-sentences-2', 'Free-Speech', 'Cape-V-sentences-5',\n",
       "       'Cape-V-sentences-4', 'Cape-V-sentences-6',\n",
       "       'Respiration-and-cough-ThreeQuickBreaths-2',\n",
       "       'Productive-Vocabulary-3', 'Rainbow-Passage', 'Cinderella-Story',\n",
       "       'Loudness', 'Animal-fluency', 'Open-response-questions',\n",
       "       'Cape-V-sentences-3', 'Cape-V-sentences-1', 'Voluntary-Cough',\n",
       "       'Breath-Sounds'], dtype=object)"
      ]
     },
     "execution_count": 6,
     "metadata": {},
     "output_type": "execute_result"
    }
   ],
   "source": [
    "# Display unique task names to understand the variations\n",
    "unique_tasks = data['task'].unique()\n",
    "unique_tasks"
   ]
  },
  {
   "cell_type": "code",
   "execution_count": 7,
   "metadata": {},
   "outputs": [
    {
     "data": {
      "text/html": [
       "<div>\n",
       "<style scoped>\n",
       "    .dataframe tbody tr th:only-of-type {\n",
       "        vertical-align: middle;\n",
       "    }\n",
       "\n",
       "    .dataframe tbody tr th {\n",
       "        vertical-align: top;\n",
       "    }\n",
       "\n",
       "    .dataframe thead th {\n",
       "        text-align: right;\n",
       "    }\n",
       "</style>\n",
       "<table border=\"1\" class=\"dataframe\">\n",
       "  <thead>\n",
       "    <tr style=\"text-align: right;\">\n",
       "      <th></th>\n",
       "      <th>pid</th>\n",
       "      <th>task</th>\n",
       "      <th>adherence</th>\n",
       "      <th>file</th>\n",
       "    </tr>\n",
       "  </thead>\n",
       "  <tbody>\n",
       "    <tr>\n",
       "      <th>4</th>\n",
       "      <td>1f9475bb-f13b-4f68-969b-28f20455b3e7</td>\n",
       "      <td>Prolonged-vowel</td>\n",
       "      <td>NaN</td>\n",
       "      <td>/Users/rachelwang/Downloads/bids_with_sensitiv...</td>\n",
       "    </tr>\n",
       "    <tr>\n",
       "      <th>5</th>\n",
       "      <td>1f9475bb-f13b-4f68-969b-28f20455b3e7</td>\n",
       "      <td>Diadochokinesis-buttercup</td>\n",
       "      <td>NaN</td>\n",
       "      <td>/Users/rachelwang/Downloads/bids_with_sensitiv...</td>\n",
       "    </tr>\n",
       "    <tr>\n",
       "      <th>6</th>\n",
       "      <td>1f9475bb-f13b-4f68-969b-28f20455b3e7</td>\n",
       "      <td>Respiration-and-cough-Breath-1</td>\n",
       "      <td>NaN</td>\n",
       "      <td>/Users/rachelwang/Downloads/bids_with_sensitiv...</td>\n",
       "    </tr>\n",
       "    <tr>\n",
       "      <th>7</th>\n",
       "      <td>1f9475bb-f13b-4f68-969b-28f20455b3e7</td>\n",
       "      <td>Diadochokinesis-PA</td>\n",
       "      <td>NaN</td>\n",
       "      <td>/Users/rachelwang/Downloads/bids_with_sensitiv...</td>\n",
       "    </tr>\n",
       "    <tr>\n",
       "      <th>9</th>\n",
       "      <td>1f9475bb-f13b-4f68-969b-28f20455b3e7</td>\n",
       "      <td>Respiration-and-cough-FiveBreaths-3</td>\n",
       "      <td>NaN</td>\n",
       "      <td>/Users/rachelwang/Downloads/bids_with_sensitiv...</td>\n",
       "    </tr>\n",
       "  </tbody>\n",
       "</table>\n",
       "</div>"
      ],
      "text/plain": [
       "                                    pid                                 task  \\\n",
       "4  1f9475bb-f13b-4f68-969b-28f20455b3e7                      Prolonged-vowel   \n",
       "5  1f9475bb-f13b-4f68-969b-28f20455b3e7            Diadochokinesis-buttercup   \n",
       "6  1f9475bb-f13b-4f68-969b-28f20455b3e7       Respiration-and-cough-Breath-1   \n",
       "7  1f9475bb-f13b-4f68-969b-28f20455b3e7                   Diadochokinesis-PA   \n",
       "9  1f9475bb-f13b-4f68-969b-28f20455b3e7  Respiration-and-cough-FiveBreaths-3   \n",
       "\n",
       "   adherence                                               file  \n",
       "4        NaN  /Users/rachelwang/Downloads/bids_with_sensitiv...  \n",
       "5        NaN  /Users/rachelwang/Downloads/bids_with_sensitiv...  \n",
       "6        NaN  /Users/rachelwang/Downloads/bids_with_sensitiv...  \n",
       "7        NaN  /Users/rachelwang/Downloads/bids_with_sensitiv...  \n",
       "9        NaN  /Users/rachelwang/Downloads/bids_with_sensitiv...  "
      ]
     },
     "execution_count": 7,
     "metadata": {},
     "output_type": "execute_result"
    }
   ],
   "source": [
    "# Mapping the tasks for easier filtering\n",
    "task_mapping = {\n",
    "    \"Breath Sounds\": \"Breath-Sounds\",\n",
    "    \"Diadochokinesis Tasks: Pa\": \"Diadochokinesis-PA\",\n",
    "    \"Diadochokinesis Tasks: Ta\": \"Diadochokinesis-TA\",\n",
    "    \"Diadochokinesis Tasks: Ka\": \"Diadochokinesis-KA\",\n",
    "    \"Diadochokinesis Tasks: Pataka\": \"Diadochokinesis-Pataka\",\n",
    "    \"Diadochokinesis Tasks: Buttercup\": \"Diadochokinesis-buttercup\",\n",
    "    \"Glides Tasks: High to Low\": \"Glides-High-to-Low\",\n",
    "    \"Glides Tasks: Low to High\": \"Glides-Low-to-High\",\n",
    "    \"Loudness Task\": \"Loudness\",\n",
    "    \"Maximum Phonation Task\": \"Maximum-phonation-time\",\n",
    "    \"Prolonged Vowel Task\": \"Prolonged-vowel\",\n",
    "    \"Respiration and Cough Tasks: Breath\": \"Respiration-and-cough-Breath\",\n",
    "    \"Respiration and Cough Tasks: Cough\": \"Respiration-and-cough-Cough\",\n",
    "    \"Respiration and Cough Tasks: Five Breaths\": \"Respiration-and-cough-FiveBreaths\",\n",
    "    \"Respiration and Cough Tasks: Three Quick Breaths\": \"Respiration-and-cough-ThreeQuickBreaths\",\n",
    "    \"Respiration and Cough Tasks: Voluntary Cough Task\": \"Voluntary-Cough\"\n",
    "}\n",
    "\n",
    "# Inverse the mapping for easier filtering\n",
    "mapped_tasks = task_mapping.values()\n",
    "\n",
    "# Filter the dataset based on the mapped tasks\n",
    "filtered_data = data[data['task'].apply(lambda x: any(task in x for task in mapped_tasks))]\n",
    "\n",
    "filtered_data.head()"
   ]
  },
  {
   "cell_type": "code",
   "execution_count": 8,
   "metadata": {},
   "outputs": [
    {
     "data": {
      "image/png": "[encoded data removed]",
      "text/plain": [
       "<Figure size 1200x800 with 1 Axes>"
      ]
     },
     "metadata": {},
     "output_type": "display_data"
    },
    {
     "data": {
      "text/plain": [
       "'/Users/rachelwang/Downloads/notes/models/csv/filtered_adherence_data_nonlabeled.csv'"
      ]
     },
     "execution_count": 8,
     "metadata": {},
     "output_type": "execute_result"
    }
   ],
   "source": [
    "import matplotlib.pyplot as plt\n",
    "\n",
    "# Count the number of occurrences for each task\n",
    "task_counts = filtered_data['task'].value_counts()\n",
    "\n",
    "# Visualize the data using a bar chart\n",
    "plt.figure(figsize=(12, 8))\n",
    "task_counts.plot(kind='bar')\n",
    "plt.title('Number of Occurrences for Each Task')\n",
    "plt.xlabel('Task')\n",
    "plt.ylabel('Count')\n",
    "plt.xticks(rotation=45, ha='right')\n",
    "plt.tight_layout()\n",
    "plt.show()\n",
    "\n",
    "# Save the filtered data to a new CSV file\n",
    "output_file_path = '/Users/rachelwang/Downloads/notes/models/csv/filtered_adherence_data_nonlabeled.csv'\n",
    "filtered_data.to_csv(output_file_path, index=False)\n",
    "\n",
    "output_file_path"
   ]
  },
  {
   "cell_type": "code",
   "execution_count": 9,
   "metadata": {},
   "outputs": [
    {
     "name": "stdout",
     "output_type": "stream",
     "text": [
      "   Total Tasks  Unique Tasks\n",
      "0         3497          24.0\n"
     ]
    }
   ],
   "source": [
    "# Show number of occurrences and a summary\n",
    "task_counts_summary = task_counts.describe()\n",
    "\n",
    "# Prepare the summary for display\n",
    "summary = {\n",
    "    'Total Tasks': task_counts.sum(),\n",
    "    'Unique Tasks': task_counts_summary['count'],\n",
    "}\n",
    "\n",
    "summary_df = pd.DataFrame(summary, index=[0])\n",
    "summary_df\n",
    "\n",
    "# Display the summary\n",
    "print(summary_df)"
   ]
  },
  {
   "cell_type": "code",
   "execution_count": 2,
   "metadata": {},
   "outputs": [],
   "source": [
    "import pandas as pd\n",
    "import numpy as np\n",
    "import librosa\n",
    "import matplotlib.pyplot as plt\n",
    "import os\n",
    "\n",
    "# Load the CSV file\n",
    "csv_path = '/Users/rachelwang/Downloads/notes/models/csv/filtered_adherence_data_nonlabeled.csv'\n",
    "data = pd.read_csv(csv_path)\n",
    "\n",
    "# Directory to save spectrogram images\n",
    "output_dir = '/Users/rachelwang/Downloads/notes/models/adherence_spectrograms_nonlabeled/'\n",
    "os.makedirs(output_dir, exist_ok=True)\n"
   ]
  },
  {
   "cell_type": "code",
   "execution_count": 3,
   "metadata": {},
   "outputs": [],
   "source": [
    "# Function to save spectrogram\n",
    "def save_spectrogram(audio_path, output_path):\n",
    "    y, sr = librosa.load(audio_path)\n",
    "    spectrogram = librosa.feature.melspectrogram(y=y, sr=sr)\n",
    "    spectrogram_db = librosa.power_to_db(spectrogram, ref=np.max)\n",
    "    \n",
    "    plt.figure(figsize=(10, 4))\n",
    "    librosa.display.specshow(spectrogram_db, sr=sr, x_axis='time', y_axis='mel')\n",
    "    plt.colorbar(format='%+2.0f dB')\n",
    "    plt.title('Mel-frequency spectrogram')\n",
    "    plt.tight_layout()\n",
    "    plt.savefig(output_path)\n",
    "    plt.close()"
   ]
  },
  {
   "cell_type": "code",
   "execution_count": 9,
   "metadata": {},
   "outputs": [
    {
     "name": "stderr",
     "output_type": "stream",
     "text": [
      "Exception ignored in: <bound method IPythonKernel._clean_thread_parent_frames of <ipykernel.ipkernel.IPythonKernel object at 0x104d9e5c0>>\n",
      "Traceback (most recent call last):\n",
      "  File \"/Users/rachelwang/Downloads/notes/.venv/lib/python3.10/site-packages/ipykernel/ipkernel.py\", line 775, in _clean_thread_parent_frames\n",
      "    def _clean_thread_parent_frames(\n",
      "KeyboardInterrupt: \n"
     ]
    }
   ],
   "source": [
    "# Generate spectrograms for all audio files in the CSV\n",
    "for idx, row in data.iterrows():\n",
    "    audio_path = row['file']\n",
    "    output_path = os.path.join(output_dir, f'spectrogram_{idx}.png')\n",
    "    save_spectrogram(audio_path, output_path)\n",
    "    data.at[idx, 'spectrogram'] = output_path"
   ]
  },
  {
   "cell_type": "code",
   "execution_count": 4,
   "metadata": {},
   "outputs": [],
   "source": [
    "# Generate spectrograms starting from index 2901\n",
    "start_index = 2901\n",
    "for idx, row in data.iterrows():\n",
    "    if idx >= start_index:\n",
    "        audio_path = row['file']\n",
    "        output_path = os.path.join(output_dir, f'spectrogram_{idx}.png')\n",
    "        save_spectrogram(audio_path, output_path)\n",
    "        data.at[idx, 'spectrogram'] = output_path"
   ]
  },
  {
   "cell_type": "code",
   "execution_count": 6,
   "metadata": {},
   "outputs": [],
   "source": [
    "for idx, row in data.iterrows():\n",
    "    audio_path = row['file']\n",
    "    output_path = os.path.join(output_dir, f'spectrogram_{idx}.png')\n",
    "    data.at[idx, 'spectrogram'] = output_path"
   ]
  },
  {
   "cell_type": "code",
   "execution_count": 7,
   "metadata": {},
   "outputs": [
    {
     "data": {
      "text/plain": [
       "'/Users/rachelwang/Downloads/notes/models/csv/adherence_non_labeled_with_image.csv'"
      ]
     },
     "execution_count": 7,
     "metadata": {},
     "output_type": "execute_result"
    }
   ],
   "source": [
    "# Save the updated CSV with the paths to the spectrogram images\n",
    "updated_csv_path = '/Users/rachelwang/Downloads/notes/models/csv/adherence_non_labeled_with_image.csv'\n",
    "data.to_csv(updated_csv_path, index=False)\n",
    "\n",
    "updated_csv_path"
   ]
  },
  {
   "cell_type": "code",
   "execution_count": 25,
   "metadata": {},
   "outputs": [
    {
     "name": "stdout",
     "output_type": "stream",
     "text": [
      "Type of updated new_data: <class 'str'>\n"
     ]
    }
   ],
   "source": [
    "print(f\"Type of updated new_data: {type(updated_csv_path)}\")"
   ]
  },
  {
   "cell_type": "code",
   "execution_count": 27,
   "metadata": {},
   "outputs": [],
   "source": [
    "import pandas as pd\n",
    "import os\n",
    "import torch\n",
    "from torchvision import transforms\n",
    "from torch.utils.data import Dataset, DataLoader\n",
    "from PIL import Image\n",
    "import librosa\n",
    "import librosa.display\n",
    "import matplotlib.pyplot as plt\n",
    "import numpy as np\n",
    "from torchvision import models\n",
    "\n",
    "# Define the dataset class\n",
    "class SpectrogramDataset(Dataset):\n",
    "    def __init__(self, dataframe, transform=None):\n",
    "        if isinstance(dataframe, str):\n",
    "            print(f\"Expected DataFrame, got string: {dataframe}\")\n",
    "        self.dataframe = dataframe\n",
    "        self.transform = transform\n",
    "    \n",
    "    def __len__(self):\n",
    "        return len(self.dataframe)\n",
    "    \n",
    "    def __getitem__(self, idx):\n",
    "        img_path = self.dataframe.iloc[idx]['spectrogram']\n",
    "        image = Image.open(img_path).convert('RGB')\n",
    "        \n",
    "        if self.transform:\n",
    "            image = self.transform(image)\n",
    "        \n",
    "        return image, 0  # Dummy label"
   ]
  },
  {
   "cell_type": "code",
   "execution_count": 56,
   "metadata": {},
   "outputs": [],
   "source": [
    "# Define the transformations\n",
    "transform = transforms.Compose([\n",
    "    transforms.RandomHorizontalFlip(),\n",
    "    transforms.RandomVerticalFlip(),\n",
    "    transforms.RandomRotation(10),\n",
    "    transforms.ColorJitter(brightness=0.2, contrast=0.2, saturation=0.2, hue=0.2),\n",
    "    transforms.Resize((224, 224)),\n",
    "    transforms.ToTensor(),\n",
    "    transforms.Normalize(mean=[0.485, 0.456, 0.406], std=[0.229, 0.224, 0.225]),\n",
    "])"
   ]
  },
  {
   "cell_type": "code",
   "execution_count": 64,
   "metadata": {},
   "outputs": [],
   "source": [
    "# Create a dataset and dataloader for the new data\n",
    "new_dataset = SpectrogramDataset(data, transform=transform)\n",
    "new_loader = DataLoader(new_dataset, batch_size=32, shuffle=False)"
   ]
  },
  {
   "cell_type": "code",
   "execution_count": 65,
   "metadata": {},
   "outputs": [
    {
     "data": {
      "text/plain": [
       "ResNet(\n",
       "  (conv1): Conv2d(3, 64, kernel_size=(7, 7), stride=(2, 2), padding=(3, 3), bias=False)\n",
       "  (bn1): BatchNorm2d(64, eps=1e-05, momentum=0.1, affine=True, track_running_stats=True)\n",
       "  (relu): ReLU(inplace=True)\n",
       "  (maxpool): MaxPool2d(kernel_size=3, stride=2, padding=1, dilation=1, ceil_mode=False)\n",
       "  (layer1): Sequential(\n",
       "    (0): BasicBlock(\n",
       "      (conv1): Conv2d(64, 64, kernel_size=(3, 3), stride=(1, 1), padding=(1, 1), bias=False)\n",
       "      (bn1): BatchNorm2d(64, eps=1e-05, momentum=0.1, affine=True, track_running_stats=True)\n",
       "      (relu): ReLU(inplace=True)\n",
       "      (conv2): Conv2d(64, 64, kernel_size=(3, 3), stride=(1, 1), padding=(1, 1), bias=False)\n",
       "      (bn2): BatchNorm2d(64, eps=1e-05, momentum=0.1, affine=True, track_running_stats=True)\n",
       "    )\n",
       "    (1): BasicBlock(\n",
       "      (conv1): Conv2d(64, 64, kernel_size=(3, 3), stride=(1, 1), padding=(1, 1), bias=False)\n",
       "      (bn1): BatchNorm2d(64, eps=1e-05, momentum=0.1, affine=True, track_running_stats=True)\n",
       "      (relu): ReLU(inplace=True)\n",
       "      (conv2): Conv2d(64, 64, kernel_size=(3, 3), stride=(1, 1), padding=(1, 1), bias=False)\n",
       "      (bn2): BatchNorm2d(64, eps=1e-05, momentum=0.1, affine=True, track_running_stats=True)\n",
       "    )\n",
       "  )\n",
       "  (layer2): Sequential(\n",
       "    (0): BasicBlock(\n",
       "      (conv1): Conv2d(64, 128, kernel_size=(3, 3), stride=(2, 2), padding=(1, 1), bias=False)\n",
       "      (bn1): BatchNorm2d(128, eps=1e-05, momentum=0.1, affine=True, track_running_stats=True)\n",
       "      (relu): ReLU(inplace=True)\n",
       "      (conv2): Conv2d(128, 128, kernel_size=(3, 3), stride=(1, 1), padding=(1, 1), bias=False)\n",
       "      (bn2): BatchNorm2d(128, eps=1e-05, momentum=0.1, affine=True, track_running_stats=True)\n",
       "      (downsample): Sequential(\n",
       "        (0): Conv2d(64, 128, kernel_size=(1, 1), stride=(2, 2), bias=False)\n",
       "        (1): BatchNorm2d(128, eps=1e-05, momentum=0.1, affine=True, track_running_stats=True)\n",
       "      )\n",
       "    )\n",
       "    (1): BasicBlock(\n",
       "      (conv1): Conv2d(128, 128, kernel_size=(3, 3), stride=(1, 1), padding=(1, 1), bias=False)\n",
       "      (bn1): BatchNorm2d(128, eps=1e-05, momentum=0.1, affine=True, track_running_stats=True)\n",
       "      (relu): ReLU(inplace=True)\n",
       "      (conv2): Conv2d(128, 128, kernel_size=(3, 3), stride=(1, 1), padding=(1, 1), bias=False)\n",
       "      (bn2): BatchNorm2d(128, eps=1e-05, momentum=0.1, affine=True, track_running_stats=True)\n",
       "    )\n",
       "  )\n",
       "  (layer3): Sequential(\n",
       "    (0): BasicBlock(\n",
       "      (conv1): Conv2d(128, 256, kernel_size=(3, 3), stride=(2, 2), padding=(1, 1), bias=False)\n",
       "      (bn1): BatchNorm2d(256, eps=1e-05, momentum=0.1, affine=True, track_running_stats=True)\n",
       "      (relu): ReLU(inplace=True)\n",
       "      (conv2): Conv2d(256, 256, kernel_size=(3, 3), stride=(1, 1), padding=(1, 1), bias=False)\n",
       "      (bn2): BatchNorm2d(256, eps=1e-05, momentum=0.1, affine=True, track_running_stats=True)\n",
       "      (downsample): Sequential(\n",
       "        (0): Conv2d(128, 256, kernel_size=(1, 1), stride=(2, 2), bias=False)\n",
       "        (1): BatchNorm2d(256, eps=1e-05, momentum=0.1, affine=True, track_running_stats=True)\n",
       "      )\n",
       "    )\n",
       "    (1): BasicBlock(\n",
       "      (conv1): Conv2d(256, 256, kernel_size=(3, 3), stride=(1, 1), padding=(1, 1), bias=False)\n",
       "      (bn1): BatchNorm2d(256, eps=1e-05, momentum=0.1, affine=True, track_running_stats=True)\n",
       "      (relu): ReLU(inplace=True)\n",
       "      (conv2): Conv2d(256, 256, kernel_size=(3, 3), stride=(1, 1), padding=(1, 1), bias=False)\n",
       "      (bn2): BatchNorm2d(256, eps=1e-05, momentum=0.1, affine=True, track_running_stats=True)\n",
       "    )\n",
       "  )\n",
       "  (layer4): Sequential(\n",
       "    (0): BasicBlock(\n",
       "      (conv1): Conv2d(256, 512, kernel_size=(3, 3), stride=(2, 2), padding=(1, 1), bias=False)\n",
       "      (bn1): BatchNorm2d(512, eps=1e-05, momentum=0.1, affine=True, track_running_stats=True)\n",
       "      (relu): ReLU(inplace=True)\n",
       "      (conv2): Conv2d(512, 512, kernel_size=(3, 3), stride=(1, 1), padding=(1, 1), bias=False)\n",
       "      (bn2): BatchNorm2d(512, eps=1e-05, momentum=0.1, affine=True, track_running_stats=True)\n",
       "      (downsample): Sequential(\n",
       "        (0): Conv2d(256, 512, kernel_size=(1, 1), stride=(2, 2), bias=False)\n",
       "        (1): BatchNorm2d(512, eps=1e-05, momentum=0.1, affine=True, track_running_stats=True)\n",
       "      )\n",
       "    )\n",
       "    (1): BasicBlock(\n",
       "      (conv1): Conv2d(512, 512, kernel_size=(3, 3), stride=(1, 1), padding=(1, 1), bias=False)\n",
       "      (bn1): BatchNorm2d(512, eps=1e-05, momentum=0.1, affine=True, track_running_stats=True)\n",
       "      (relu): ReLU(inplace=True)\n",
       "      (conv2): Conv2d(512, 512, kernel_size=(3, 3), stride=(1, 1), padding=(1, 1), bias=False)\n",
       "      (bn2): BatchNorm2d(512, eps=1e-05, momentum=0.1, affine=True, track_running_stats=True)\n",
       "    )\n",
       "  )\n",
       "  (avgpool): AdaptiveAvgPool2d(output_size=(1, 1))\n",
       "  (fc): Linear(in_features=512, out_features=5, bias=True)\n",
       ")"
      ]
     },
     "execution_count": 65,
     "metadata": {},
     "output_type": "execute_result"
    }
   ],
   "source": [
    "import torch.nn as nn\n",
    "# Load the saved model\n",
    "device = torch.device(\"cuda\" if torch.cuda.is_available() else \"cpu\")\n",
    "model = models.resnet18()\n",
    "num_ftrs = model.fc.in_features\n",
    "model.fc = nn.Linear(num_ftrs, 5)  # 5 classes\n",
    "model.load_state_dict(torch.load('resnet_best_model_adherence.pth'))\n",
    "model = model.to(device)\n",
    "model.eval()"
   ]
  },
  {
   "cell_type": "markdown",
   "metadata": {},
   "source": [
    "## Predict labels for the new data"
   ]
  },
  {
   "cell_type": "code",
   "execution_count": 66,
   "metadata": {},
   "outputs": [
    {
     "name": "stdout",
     "output_type": "stream",
     "text": [
      "Predictions saved to: /Users/rachelwang/Downloads/notes/models/csv/predicted_adherence_2.csv\n"
     ]
    }
   ],
   "source": [
    "# Predict labels for the new data\n",
    "predictions = []\n",
    "\n",
    "with torch.no_grad():\n",
    "    for images, _ in new_loader:\n",
    "        images = images.to(device)\n",
    "        outputs = model(images)\n",
    "        _, predicted = torch.max(outputs, 1)\n",
    "        predictions.extend(predicted.cpu().numpy())\n",
    "\n",
    "# Add the predictions to the new data\n",
    "data['adherence'] = [p + 1 for p in predictions]  # Convert back to 1-based labels\n",
    "\n",
    "# Save the new data with predictions\n",
    "new_data_with_predictions_path = '/Users/rachelwang/Downloads/notes/models/csv/predicted_adherence_2.csv' \n",
    "data.to_csv(new_data_with_predictions_path, index=False)\n",
    "\n",
    "print(f\"Predictions saved to: {new_data_with_predictions_path}\")"
   ]
  },
  {
   "cell_type": "code",
   "execution_count": 60,
   "metadata": {},
   "outputs": [
    {
     "name": "stdout",
     "output_type": "stream",
     "text": [
      "Adherence label counts:\n",
      "adherence\n",
      "2      61\n",
      "3       7\n",
      "4      18\n",
      "5    3411\n",
      "Name: count, dtype: int64\n"
     ]
    }
   ],
   "source": [
    "import pandas as pd\n",
    "\n",
    "# Load the CSV file with predictions\n",
    "data = pd.read_csv(new_data_with_predictions_path)\n",
    "\n",
    "# Count the occurrences of each adherence label\n",
    "label_counts = data['adherence'].value_counts().sort_index()\n",
    "\n",
    "# Print the counts for each label\n",
    "print(\"Adherence label counts:\")\n",
    "print(label_counts)"
   ]
  }
 ],
 "metadata": {
  "kernelspec": {
   "display_name": ".venv",
   "language": "python",
   "name": "python3"
  },
  "language_info": {
   "codemirror_mode": {
    "name": "ipython",
    "version": 3
   },
   "file_extension": ".py",
   "mimetype": "text/x-python",
   "name": "python",
   "nbconvert_exporter": "python",
   "pygments_lexer": "ipython3",
   "version": "3.10.13"
  }
 },
 "nbformat": 4,
 "nbformat_minor": 2
}
